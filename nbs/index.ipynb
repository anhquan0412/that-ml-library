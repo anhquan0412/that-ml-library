{
 "cells": [
  {
   "cell_type": "markdown",
   "metadata": {},
   "source": [
    "# that-ml-library\n",
    "\n",
    "> A useful package for EDA and quick ML model building"
   ]
  },
  {
   "cell_type": "markdown",
   "metadata": {},
   "source": [
    "## Install"
   ]
  },
  {
   "cell_type": "markdown",
   "metadata": {},
   "source": [
    "```sh\n",
    "pip install that_ml_library\n",
    "```"
   ]
  },
  {
   "cell_type": "markdown",
   "metadata": {},
   "source": [
    "For tree visualization function (`plot_tree_dtreeviz` or `plot_tree_sklearn`), you also need to install `graphviz`. Please follow the instruction [here](https://github.com/parrt/dtreeviz#installation)"
   ]
  },
  {
   "cell_type": "markdown",
   "metadata": {},
   "source": [
    "## How to use"
   ]
  },
  {
   "cell_type": "markdown",
   "metadata": {},
   "source": [
    "Please visit [https://anhquan0412.github.io/that-ml-library/](https://anhquan0412.github.io/that-ml-library/) for tutorials and documentations"
   ]
  },
  {
   "cell_type": "markdown",
   "metadata": {},
   "source": [
    "## A word of caution"
   ]
  },
  {
   "cell_type": "markdown",
   "metadata": {},
   "source": [
    "This library should only be utilized solely for developing a proof of concept or prototype for your machine learning model with your specific dataset, with the aim of evaluating the model's performance and interpretability. For deployment in a production environment, opt for a more organized methodology, such as [https://scikit-learn.org/stable/modules/compose.html#pipeline](https://scikit-learn.org/stable/modules/compose.html#pipeline)"
   ]
  }
 ],
 "metadata": {
  "kernelspec": {
   "display_name": "python3",
   "language": "python",
   "name": "python3"
  }
 },
 "nbformat": 4,
 "nbformat_minor": 4
}
